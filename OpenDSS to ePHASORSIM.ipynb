{
 "cells": [
  {
   "cell_type": "code",
   "execution_count": null,
   "metadata": {},
   "outputs": [],
   "source": [
    "from IPython.core.display import display, HTML\n",
    "display(HTML(\"<style>.container { width:100% !important; }</style>\"))"
   ]
  },
  {
   "cell_type": "code",
   "execution_count": null,
   "metadata": {},
   "outputs": [],
   "source": [
    "import re\n",
    "import pandas as pd\n",
    "import os\n",
    "import sys\n",
    "import numpy as np\n",
    "from opendssdirect.utils import run_command\n",
    "import opendssdirect as dss"
   ]
  },
  {
   "cell_type": "code",
   "execution_count": null,
   "metadata": {},
   "outputs": [],
   "source": [
    "from helpers import *"
   ]
  },
  {
   "cell_type": "code",
   "execution_count": null,
   "metadata": {},
   "outputs": [],
   "source": [
    "!pwd"
   ]
  },
  {
   "cell_type": "code",
   "execution_count": null,
   "metadata": {},
   "outputs": [],
   "source": [
    "current_dir = os.path.abspath('./')\n",
    "!pwd"
   ]
  },
  {
   "cell_type": "code",
   "execution_count": null,
   "metadata": {},
   "outputs": [],
   "source": [
    "OpenDSS_Folder = '{}'.format('/opendss_ephasor')"
   ]
  },
  {
   "cell_type": "code",
   "execution_count": null,
   "metadata": {},
   "outputs": [],
   "source": [
    "OpenDSS_Folder"
   ]
  },
  {
   "cell_type": "code",
   "execution_count": null,
   "metadata": {},
   "outputs": [],
   "source": [
    "OpenDSS_Master = '{}/{}'.format(OpenDSS_Folder,'Master.dss')"
   ]
  },
  {
   "cell_type": "code",
   "execution_count": null,
   "metadata": {},
   "outputs": [],
   "source": [
    "OpenDSS_Master"
   ]
  },
  {
   "cell_type": "code",
   "execution_count": null,
   "metadata": {},
   "outputs": [],
   "source": [
    "dss_path= OpenDSS_Master\n",
    "run_command('compile {}'.format(dss_path))"
   ]
  },
  {
   "cell_type": "code",
   "execution_count": null,
   "metadata": {},
   "outputs": [],
   "source": []
  },
  {
   "cell_type": "code",
   "execution_count": null,
   "metadata": {},
   "outputs": [],
   "source": [
    "masterfile = read_dss_masterfile(OpenDSS_Master)\n",
    "# get the name of the slack bus from the master.dss file\n",
    "# masterfile"
   ]
  },
  {
   "cell_type": "code",
   "execution_count": null,
   "metadata": {},
   "outputs": [],
   "source": [
    "# slackbus = masterfile['bus1'].split('.')[0]\n",
    "slackbus = masterfile['circuit'].split('.')[0]\n",
    "print(slackbus)"
   ]
  },
  {
   "cell_type": "code",
   "execution_count": null,
   "metadata": {},
   "outputs": [],
   "source": []
  },
  {
   "cell_type": "code",
   "execution_count": null,
   "metadata": {},
   "outputs": [],
   "source": [
    "tempdf = dss_to_df_diff('Master.dss')"
   ]
  },
  {
   "cell_type": "code",
   "execution_count": null,
   "metadata": {},
   "outputs": [],
   "source": [
    "dfs = {}\n",
    "act_keys = ['load','line', 'transformer','switch','pvsystem','capacitor','faultindicator','fuses']"
   ]
  },
  {
   "cell_type": "code",
   "execution_count": null,
   "metadata": {},
   "outputs": [],
   "source": [
    "for x in tempdf:\n",
    "    dataframe_key = '-'.join(set(x.keys())  & set(act_keys))\n",
    "    if dataframe_key not in dfs.keys():\n",
    "        dfs[dataframe_key] = pd.DataFrame()\n",
    "    dfs[dataframe_key] = dfs[dataframe_key].append(x,ignore_index=True)    "
   ]
  },
  {
   "cell_type": "code",
   "execution_count": null,
   "metadata": {},
   "outputs": [],
   "source": [
    "dfs.keys()"
   ]
  },
  {
   "cell_type": "code",
   "execution_count": null,
   "metadata": {},
   "outputs": [],
   "source": [
    "for i in dfs:\n",
    "    print(dfs[i].keys())"
   ]
  },
  {
   "cell_type": "code",
   "execution_count": null,
   "metadata": {},
   "outputs": [],
   "source": [
    "reuired_sheetnames = ['Bus',\n",
    " 'Current Injector',\n",
    " 'Switch',\n",
    " 'Vsource 3-phase',\n",
    " 'Multiphase Line',\n",
    " 'Multiphase Load',\n",
    " 'Multiphase Shunt',\n",
    "'Multiphase Transformer']\n",
    "# template.sheet_names\n",
    "\n",
    "sheet_name_cols = {}\n",
    "for x in reuired_sheetnames:\n",
    "    headers = [0]\n",
    "    if str(x) == 'Multiphase Transformer':\n",
    "        headers=[0, 1]\n",
    "    temp = pd.read_excel('/Users/dvaidhyn/Desktop/ACES-COSIM/fy19cosim/aces-simulations/nodes/nodes-sce/temp/Open_dss_model_08_22_2018/ConvertedFiles/Template_V1_6.xls',sheet_name=x,header=headers)\n",
    "    sheet_name_cols[str(x)] = list(temp.columns.values)"
   ]
  },
  {
   "cell_type": "code",
   "execution_count": null,
   "metadata": {},
   "outputs": [],
   "source": [
    "# Multiplahse Transformer\n",
    "# Transformer_df = dss_to_df('{}/{}'.format(OpenDSS_Folder,'Transformers.dss'))\n",
    "Transformer_df = pd.DataFrame(dfs['transformer'])\n",
    "\n",
    "transformer_split_list = [\n",
    "    {'bus' : 'from'},\\\n",
    "    {'bus+1' : 'to' }\n",
    "]\n",
    "\n",
    "Transformer_df_final = split_phases_to_cols(transformer_split_list,Transformer_df)   \n",
    "replacement_keys = ['from1','from2', 'from3','to1','to2','to3']\n",
    "phase_replace(phases_123_abc,Transformer_df_final,replacement_keys)\n",
    "\n",
    "print(Transformer_df_final.columns)\n",
    "print(sheet_name_cols['Multiphase Transformer'])\n",
    "\n",
    "Transformer_df_final.columns = [('Unnamed: 0_level_0', '%loadloss'),('Unnamed: 0_level_0', '%noloadloss'),('Unnamed: 0_level_0','bus'), ('Unnamed: 0_level_0','bus+1'), ('winding From','Conn. type'), ('winding To','Conn. type'), \n",
    "       ('winding From', 'Bus1'),('winding From', 'Bus2'),('winding From', 'Bus3'),\n",
    "        ('winding From', 'V (kV)'), ('winding To', 'V (kV)'), ('winding From', 'S_base (kVA)'),('winding To', 'S_base (kVA)'),\n",
    "        'maxtap', 'maxtap+1',\n",
    "       'mintap', 'mintap+1', 'numtap', 'numtap+1', ('Unnamed: 0_level_0','num. phases'), 'tap','tap+1',\n",
    "       ('winding To', 'Bus1'),('winding To', 'Bus2'),('winding To', 'Bus3'),('Unnamed: 0_level_0','ID'), 'wdg', 'wdg+1', 'windings', 'xhl']\n",
    "\n",
    "Transformer_df_final.sort_values(('Unnamed: 0_level_0','num. phases'),axis=0, ascending=True, inplace=True)\n",
    "Transformer_df_final = Transformer_df_final[  \n",
    "[ ('winding From','Conn. type'), ('winding To','Conn. type'), \n",
    "       ('winding From', 'Bus1'),('winding From', 'Bus2'),('winding From', 'Bus3'),\n",
    "        ('winding From', 'V (kV)'), ('winding To', 'V (kV)'), ('winding From', 'S_base (kVA)'),('winding To', 'S_base (kVA)'),\n",
    "         ('Unnamed: 0_level_0','num. phases'),\n",
    "       ('winding To', 'Bus1'),('winding To', 'Bus2'),('winding To', 'Bus3'),('Unnamed: 0_level_0','ID')]\n",
    "]\n",
    "\n",
    "Transformer_df_final [('Unnamed: 0_level_0','Tap1')] = 0\n",
    "Transformer_df_final [('Unnamed: 0_level_0','Tap2')] = np.nan\n",
    "Transformer_df_final [('Unnamed: 0_level_0','Tap3')] = np.nan\n",
    "Transformer_df_final [('Unnamed: 0_level_0','X (pu)')] = 0.01\n",
    "Transformer_df_final [('winding From','X (pu)')] = 0.01\n",
    "Transformer_df_final [('winding To','X (pu)')] = 0.01\n",
    "Transformer_df_final [('Unnamed: 0_level_0','Lowest Tap')] = -16\n",
    "Transformer_df_final [('Unnamed: 0_level_0','Highest Tap')] = 16\n",
    "Transformer_df_final [('Unnamed: 0_level_0','Min Range (%)')] = 10\n",
    "Transformer_df_final [('Unnamed: 0_level_0','Max Range (%)')] = 10\n",
    "\n",
    "phases3 = Transformer_df_final[('Unnamed: 0_level_0', 'num. phases')].loc[Transformer_df_final[('Unnamed: 0_level_0', 'num. phases')].str.contains('3')].index\n",
    "Transformer_df_final[('Unnamed: 0_level_0','Tap2')][phases3]  = 0\n",
    "Transformer_df_final[('Unnamed: 0_level_0','Tap3')][phases3] = 0\n",
    "\n",
    "phases1 = Transformer_df_final[('Unnamed: 0_level_0', 'num. phases')].loc[Transformer_df_final[('Unnamed: 0_level_0', 'num. phases')].str.contains('1')].index\n",
    "Transformer_df_final[('winding From', 'V (kV)')][phases1]  = Transformer_df_final[('winding From', 'V (kV)')][phases1].astype(float)*1.732\n",
    "Transformer_df_final[('winding To', 'V (kV)')][phases1] = Transformer_df_final[('winding To', 'V (kV)')][phases1].astype(float)*1.732\n",
    "Transformer_df_final.head()\n"
   ]
  },
  {
   "cell_type": "code",
   "execution_count": null,
   "metadata": {
    "scrolled": true
   },
   "outputs": [],
   "source": [
    "# Multiphase Loads\n",
    "# Loads_df = dss_to_df('{}/{}'.format(OpenDSS_Folder,'Loads.dss'))\n",
    "Loads_df = pd.DataFrame(dfs['load'])\n",
    "loads_split_list = [\n",
    "    {'bus1' : 'bus_'}\n",
    "]\n",
    "Loads_df_final = split_phases_to_cols(loads_split_list,Loads_df)\n",
    "replacement_keys = ['bus_1','bus_2','bus_3']\n",
    "phase_replace(phases_123_abc,Loads_df_final,replacement_keys)\n",
    "temp_load = pd.DataFrame()\n",
    "ld = dss.Loads.First()\n",
    "while ld:\n",
    "    z = {'load' : dss.Loads.Name(), 'kvar': dss.Loads.kvar(),'Bandwitdth(p.u)':dss.Loads.Vminpu() }\n",
    "    temp_load = temp_load.append(z,ignore_index=True)\n",
    "    ld = dss.Loads.Next()\n",
    "Loads_df_final = pd.merge(Loads_df_final, temp_load, how='inner', on='load')  \n",
    "temp = pd.DataFrame()\n",
    "for i,x in Loads_df_final.iterrows():\n",
    "    z = x\n",
    "    for j in range(1,int(z['phases'])+1):\n",
    "        z['P{}'.format(j)] = float(float(z['kw'])/float(z['phases']))\n",
    "        z['Q{}'.format(j)] = float(float(z['kvar'])/float(z['phases']))\n",
    "        z['conn.type'] = 'wye'\n",
    "        z['type'] ='ZIP'\n",
    "        z['k_z'] = 0\n",
    "        z['k_i'] = 0\n",
    "        z['k_p'] = 1\n",
    "        z['status'] =1 \n",
    "    temp = temp.append(z)\n",
    "ephaseor_load_df = temp\n",
    "# ephaseor_load_df.head()\n",
    "\n",
    "\n",
    "print(ephaseor_load_df.columns)\n",
    "print(sheet_name_cols['Multiphase Load'])\n",
    "ephaseor_load_df.columns = ['Bandwitdth(p.u)', 'P1 (kW)', 'P2 (kW)', 'P3 (kW)', 'Q1 (kVAr)', 'Q2 (kVAr)', 'Q3 (kVAr)', 'bus1', 'Bus1',\n",
    "       'Bus2', 'Bus3', 'Conn.type', 'K_i', 'K_p', 'K_z', 'V(kv)', 'kvar', 'kw',\n",
    "       'ID', 'phases', 'Status', 'Type', 'yearly']\n",
    "\n",
    "ephaseor_load_df.sort_values('phases',axis=0, ascending=True, inplace=True)\n",
    "ephaseor_load_df = ephaseor_load_df[['Bandwitdth(p.u)', 'P1 (kW)', 'P2 (kW)', 'P3 (kW)', 'Q1 (kVAr)', 'Q2 (kVAr)', 'Q3 (kVAr)', 'bus1', 'Bus1',\n",
    "       'Bus2', 'Bus3', 'Conn.type', 'K_i', 'K_p', 'K_z', 'V(kv)','ID', 'Status', 'Type' ]]\n",
    "ephaseor_load_df ['Use initial voltage?'] = 0\n",
    "ephaseor_load_df.head()"
   ]
  },
  {
   "cell_type": "code",
   "execution_count": null,
   "metadata": {},
   "outputs": [],
   "source": [
    "# Switch\n",
    "def switch_mod(df):\n",
    "    df['ON_OFF'].replace(['true'],1,inplace=True)\n",
    "    df['ON_OFF'].replace(['false'],0,inplace=True)\n",
    "    df['From_bus'].replace('\\.1','_a',regex=True,inplace=True)\n",
    "    df['From_bus'].replace('\\.2','_b',regex=True,inplace=True)\n",
    "    df['From_bus'].replace('\\.3','_c',regex=True,inplace=True)\n",
    "    df['To_bus'].replace('\\.1','_a',regex=True,inplace=True)\n",
    "    df['To_bus'].replace('\\.2','_b',regex=True,inplace=True)\n",
    "    df['To_bus'].replace('\\.3','_c',regex=True,inplace=True)\n",
    "    df['Switch_ID'].replace('\\.1','_a',regex=True,inplace=True)\n",
    "    df['Switch_ID'].replace('\\.2','_b',regex=True,inplace=True)\n",
    "    df['Switch_ID'].replace('\\.3','_c',regex=True,inplace=True)\n",
    "    df['Switch_ID'].replace('line\\.','line',regex=True,inplace=True)\n",
    "\n",
    "Switch_key_map =  {'bus1' : 'From_bus', 'bus2' : 'To_bus', 'line' : 'Switch_ID', 'enabled' : 'ON_OFF', 'phases' : 'phases'}\n",
    "\n",
    "\n",
    "try:\n",
    "    Switch_ephasror_final = pd.DataFrame(dfs['switch-line'] )\n",
    "except:    \n",
    "    Switch_ephasror_final = pd.DataFrame(dfs['line-switch'] )\n",
    "\n",
    "Switch_ephasror_final = Switch_ephasror_final.append(dfs['line'].loc[dfs['line'].length == '1.0'],ignore_index=True)\n",
    "\n",
    "col_replace(Switch_ephasror_final, Switch_key_map)\n",
    "\n",
    "add_on_df = pd.DataFrame()\n",
    "add_on = []\n",
    "for i,x in Switch_ephasror_final.iterrows():\n",
    "    names = x['From_bus'].split('.')\n",
    "    switch_name = x['Switch_ID'].split('.')[0]\n",
    "    if len(names) > 2:\n",
    "        z = x\n",
    "        tonames = z['To_bus'].split('.')   \n",
    "#         print(names[1:])\n",
    "        for y in names[1:]:\n",
    "            temprow = {}\n",
    "            temprow = z\n",
    "            temprow['From_bus'] = '{}.{}'.format(names[0],y)\n",
    "            temprow['To_bus'] = '{}.{}'.format(tonames[0],y)    \n",
    "            temprow['Switch_ID'] = '{}.{}'.format(switch_name,y)\n",
    "#             print(temprow['Switch_ID'])\n",
    "            add_on_df = add_on_df.append(temprow,ignore_index=True)\n",
    "\n",
    "\n",
    "Switch_ephasror_final.drop(Switch_ephasror_final.loc[Switch_ephasror_final.phases.map(lambda x: int(x)) > 1 ].index , inplace=True)\n",
    "Switch_ephasror_final = Switch_ephasror_final.append(add_on_df,ignore_index=True)\n",
    "switch_mod(Switch_ephasror_final)\n",
    "\n",
    "print(Switch_ephasror_final.columns)\n",
    "print(sheet_name_cols['Switch'])\n",
    "\n",
    "Switch_ephasror_final.columns  = ['From Bus','Status', 'ID','To Bus', 'phases']\n",
    "Switch_ephasror_final.head()"
   ]
  },
  {
   "cell_type": "code",
   "execution_count": null,
   "metadata": {},
   "outputs": [],
   "source": []
  },
  {
   "cell_type": "code",
   "execution_count": null,
   "metadata": {},
   "outputs": [],
   "source": [
    "# Mulitphase Shunt\n",
    "def capacitor_mod(df):\n",
    "    extra_cols = ['Bus1', 'Bus2', 'Bus3','P1','P2','P3','Q1','Q2','Q3','V','Status1','Status2','Status3']\n",
    "    ndf = pd.DataFrame(columns=extra_cols)\n",
    "    ndf = ndf.append(df,ignore_index=True,sort=False)\n",
    "    for i in range(ndf.shape[0]):\n",
    "            ndf.loc[i,'Status1'] = 1\n",
    "            ndf.loc[i,'Status2'] = 1\n",
    "            ndf.loc[i,'Status3'] = 1\n",
    "            ndf.loc[i]['P1'] = 0\n",
    "            ndf.loc[i]['P2'] = 0\n",
    "            ndf.loc[i]['P3'] = 0\n",
    "            ndf.loc[i]['V'] = ndf.loc[i]['kv']\n",
    "            ndf.loc[i]['Q1'] = ndf.loc[i]['kvar']\n",
    "            ndf.loc[i]['Q2'] = ndf.loc[i]['kvar']\n",
    "            ndf.loc[i]['Q3'] = ndf.loc[i]['kvar'] \n",
    "            if int(ndf.loc[i]['phases'] )== 3:\n",
    "                ndf.loc[i]['Bus1'] = str(ndf.loc[i]['bus1']).split(\".\")[0]+str('_a')\n",
    "                ndf.loc[i]['Bus2'] = str(ndf.loc[i]['bus1']).split(\".\")[0]+str('_b')\n",
    "                ndf.loc[i]['Bus3'] = str(ndf.loc[i]['bus1']).split(\".\")[0]+str('_c')\n",
    "                ndf.loc[i]['Q1'] = float(ndf.loc[i]['kvar'])*0.3333\n",
    "                ndf.loc[i]['Q2'] = float(ndf.loc[i]['kvar'])*0.3333\n",
    "                ndf.loc[i]['Q3'] = float(ndf.loc[i]['kvar'])*0.3333  \n",
    "    ndf.drop(['bus1','kv','kvar'],inplace=True, axis=1)   \n",
    "    return ndf\n",
    "    \n",
    "\n",
    "# Capacitors_df = dss_to_df('{}/{}'.format(OpenDSS_Folder,'Capacitors.dss'))\n",
    "Capacitors_df = dfs['capacitor']\n",
    "Capacitors_df = capacitor_mod(Capacitors_df)\n",
    "\n",
    "print(Capacitors_df.columns)\n",
    "print(sheet_name_cols['Multiphase Shunt'])\n",
    "\n",
    "Capacitors_df.sort_values('phases',axis=0, ascending=True, inplace=True)\n",
    "\n",
    "Capacitors_df.columns = ['Bus1' ,'Bus2', 'Bus3', 'P1(kW)', 'P2(kW)' ,'P3(kW)', 'Q1(kVAr)' ,'Q2(kVAr)' ,'Q3(kVAr)' ,'V(kV)' ,'Status1'\n",
    " ,'Status2' ,'Status3', 'ID', 'conn' ,'phases']\n",
    "Capacitors_df = Capacitors_df[['Bus1' ,'Bus2', 'Bus3', 'P1(kW)', 'P2(kW)' ,'P3(kW)', 'Q1(kVAr)' ,'Q2(kVAr)' ,'Q3(kVAr)' ,'V(kV)' ,'Status1'\n",
    " ,'Status2' ,'Status3', 'ID']]\n",
    "\n",
    "Capacitors_df.head()"
   ]
  },
  {
   "cell_type": "code",
   "execution_count": null,
   "metadata": {},
   "outputs": [],
   "source": [
    "# Current Injector\n",
    "\n",
    "# PVsystems_df = dss_to_df('{}/{}'.format(OpenDSS_Folder,'PVsystems.dss'))\n",
    "PVsystems_df = pd.DataFrame(dfs['pvsystem'])\n",
    "PVsystems_key_map = {'bus1' :'Bus', 'kv' : 'kV_rating', 'kva' : 'kVA_rating' , \\\n",
    "                     'pf' : 'Power_factor', 'phases': 'Phases', 'pvsystem':'PV_ID' }\n",
    "col_replace(PVsystems_df, PVsystems_key_map) \n",
    "\n",
    "pv_addon =pd.DataFrame()\n",
    "for i,x in PVsystems_df.loc[PVsystems_df.Phases.astype(float) > 1].iterrows():\n",
    "    y = {}\n",
    "    y = x\n",
    "    names = x['Bus']\n",
    "    base_name = names.split('.')[0]\n",
    "    base_pv_name = x['PV_ID'].split('.')[0]\n",
    "    for k in names.split('.')[1:]:\n",
    "        y['Bus'] = '{}.{}'.format(base_name,k)\n",
    "        y['PV_ID'] = '{}.{}'.format(base_pv_name,k)    \n",
    "        pv_addon = pv_addon.append(y,ignore_index=True)\n",
    "\n",
    "PVsystems_df.drop(PVsystems_df.loc[PVsystems_df.Phases == '3'].index, inplace=True)\n",
    "PVsystems_df = PVsystems_df.append(pv_addon,ignore_index=True)\n",
    "replacement_keys = ['Bus','PV_ID']\n",
    "phase_replace(phases_123_abc,PVsystems_df,replacement_keys)\n",
    "\n",
    "print(PVsystems_df.columns)\n",
    "print(sheet_name_cols['Current Injector'])\n",
    "\n",
    "PVsystems_df.sort_values('Phases',axis=0, ascending=True, inplace=True)\n",
    "PVsystems_df.columns = ['Bus','ID', 'Phases','Power_factor', 'kVA_rating','kV_rating']\n",
    "PVsystems_df = PVsystems_df [['Bus','ID']]\n",
    "\n",
    "PVsystems_df.head()"
   ]
  },
  {
   "cell_type": "code",
   "execution_count": null,
   "metadata": {},
   "outputs": [],
   "source": [
    "# Mulitphase Lines\n",
    "# Lines_df = dss_to_df('{}/{}'.format(OpenDSS_Folder,'Lines.dss'))\n",
    "Lines_df = dfs['line']\n",
    "\n",
    "lines_split_list = [\n",
    "    {'bus1' : 'from'},\\\n",
    "    {'bus2' : 'to' }\n",
    "]\n",
    "Lines_df_final = split_phases_to_cols(lines_split_list,Lines_df)  \n",
    "replacement_keys = ['from1','from2', 'from3','to1','to2','to3']\n",
    "phase_replace(phases_123_abc,Lines_df_final, replacement_keys)\n",
    "temprxc = []\n",
    "tempb0b1 = []\n",
    "run_command('solve')    \n",
    "Line = dss.Lines.First()\n",
    "while Line:\n",
    "    x = {}\n",
    "    \n",
    "    Name = dss.Lines.Name()\n",
    "    x['line'] = Name\n",
    "\n",
    "    x['b0'] =  dss.Lines.C0()\n",
    "    x['b1'] =  dss.Lines.C1()\n",
    "    \n",
    "    R = dss.Lines.RMatrix()\n",
    "    Ydim = int(np.sqrt(len(R)))\n",
    "    for i in range(1,Ydim+1): \n",
    "        for j in range(1,Ydim+1): \n",
    "            x['r{}{}'.format(i,j)]  =  R[(i-1)*Ydim + (j-1)]\n",
    "    \n",
    "    X = dss.Lines.XMatrix()\n",
    "    Ydim = int(np.sqrt(len(X)))\n",
    "    for i in range(1,Ydim+1): \n",
    "        for j in range(1,Ydim+1): \n",
    "            x['x{}{}'.format(i,j)] = X[(i-1)*Ydim + (j-1)]\n",
    "    \n",
    "    C = dss.Lines.CMatrix()\n",
    "    Ydim = int(np.sqrt(len(C)))\n",
    "    for i in range(1,Ydim+1): \n",
    "        for j in range(1,Ydim+1): \n",
    "            x['c{}{}'.format(i,j)] =  C[(i-1)*Ydim + (j-1)]\n",
    "      \n",
    "    temprxc.append(x)\n",
    "    Line = dss.Lines.Next()\n",
    "    \n",
    "rxc = pd.DataFrame(temprxc)  \n",
    "\n",
    "#  drop all lines of length 1 from the lines dataframe\n",
    "Lines_df_final.drop(Lines_df_final.loc[Lines_df_final.length == '1.0'].index, inplace=True)\n",
    "\n",
    "Lines_df_final = pd.merge(Lines_df_final, rxc, how='inner', on='line')\n",
    "\n",
    "print(Lines_df_final.columns)\n",
    "print(sheet_name_cols['Multiphase Line'])\n",
    "\n",
    "Lines_df_final.columns = ['b1(uS/length_unit)', 'bus1', 'bus2', 'enabled', 'From1', 'Length (length_unit)', 'ID',\n",
    "       'normamps', 'phases', 'r0(ohm/length_unit)', 'r1(ohm/length_unit)', 'To1', 'units', 'x0(ohm/length_unit)', 'x1(ohm/length_unit)', 'From2',\n",
    "       'From3', 'To2', 'To3', 'b0(uS/length_unit)', 'b1_y', 'c11(uS/length_unit)', 'c12(uS/length_unit)', 'c13(uS/length_unit)', 'c21(uS/length_unit)', 'c22(uS/length_unit)',\n",
    "       'c23(uS/length_unit)', 'c31(uS/length_unit)', 'c32(uS/length_unit)', 'c33(uS/length_unit)', 'r11(ohm/length_unit)', 'r12(ohm/length_unit)', 'r13(ohm/length_unit)', 'r21(ohm/length_unit)', 'r22(ohm/length_unit)', 'r23(ohm/length_unit)',\n",
    "       'r31(ohm/length_unit)', 'r32(ohm/length_unit)', 'r33(ohm/length_unit)', 'x11(ohm/length_unit)', 'x12(ohm/length_unit)', 'x13(ohm/length_unit)', 'x21(ohm/length_unit)', 'x22(ohm/length_unit)', 'x23(ohm/length_unit)', 'x31(ohm/length_unit)',\n",
    "       'x32(ohm/length_unit)', 'x33(ohm/length_unit)']\n",
    "\n",
    "Lines_df_final.sort_values('phases',axis=0, ascending=True, inplace=True)\n",
    "Lines_df_final = Lines_df_final[['b1(uS/length_unit)', 'From1', 'Length (length_unit)', 'ID',\n",
    "      'r0(ohm/length_unit)', 'r1(ohm/length_unit)', 'To1','x0(ohm/length_unit)', 'x1(ohm/length_unit)', 'From2',\n",
    "       'From3', 'To2', 'To3', 'b0(uS/length_unit)', 'c11(uS/length_unit)',  'c21(uS/length_unit)', 'c22(uS/length_unit)',\n",
    "       'c31(uS/length_unit)', 'c32(uS/length_unit)', 'c33(uS/length_unit)', 'r11(ohm/length_unit)',  'r21(ohm/length_unit)', 'r22(ohm/length_unit)', \n",
    "       'r31(ohm/length_unit)', 'r32(ohm/length_unit)', 'r33(ohm/length_unit)', 'x11(ohm/length_unit)', 'x21(ohm/length_unit)', 'x22(ohm/length_unit)', 'x31(ohm/length_unit)',\n",
    "       'x32(ohm/length_unit)', 'x33(ohm/length_unit)']]\n",
    "Lines_df_final['mode'] = 'FULL'\n",
    "Lines_df_final\n",
    "\n",
    "Lines_df_final.head()"
   ]
  },
  {
   "cell_type": "code",
   "execution_count": null,
   "metadata": {},
   "outputs": [],
   "source": []
  },
  {
   "cell_type": "code",
   "execution_count": null,
   "metadata": {},
   "outputs": [],
   "source": [
    "# # VSource\n",
    "# vs = dss.Vsources.First()\n",
    "# while vs:\n",
    "#     print(dss.Vsources.Name(),dss.Vsources.BasekV(),dss.Vsources.PU(),dss.Vsources.AngleDeg(),dss.Vsources.Frequency(),dss.Vsources.Phases())\n",
    "#     vs = dss.Vsources.Next()\n"
   ]
  },
  {
   "cell_type": "code",
   "execution_count": null,
   "metadata": {},
   "outputs": [],
   "source": [
    "# Bus\n",
    "phases = ['a','b','c']\n",
    "Bus_ephasor_df = pd.DataFrame()\n",
    "ll = dss.Circuit.AllBusNames()\n",
    "for x in ll:\n",
    "    actbus = dss.Circuit.SetActiveBus(x)\n",
    "    z = {}\n",
    "    z['BaseKV'] = dss.Bus.kVBase()    \n",
    "    mag_angle = dss.Bus.VMagAngle()\n",
    "    vpu = dss.Bus.puVmagAngle()\n",
    "    nodes = dss.Bus.Nodes()\n",
    "    for ti in range(0,len(nodes),1):     \n",
    "        z['Node'] = nodes[ti]\n",
    "        z['Bus']  = '{}_{}'.format(dss.Bus.Name(),(phases[nodes[ti]-1]))\n",
    "        t = ti*2\n",
    "        z['VoltageMagnitude'] = mag_angle[t]\n",
    "        z['PhaseAngle'] = mag_angle[t+1] \n",
    "        z['VoltagePU'] = vpu[t]\n",
    "        Bus_ephasor_df = Bus_ephasor_df.append(z,ignore_index=True)\n",
    "\n",
    "        \n",
    "print(Bus_ephasor_df.columns)\n",
    "print(sheet_name_cols['Bus'])\n",
    "\n",
    "Bus_ephasor_df.columns= ['Base Voltage (V)','Bus','Node','Angle (deg)','Voltage (V)','Voltage (V, pu)']\n",
    "Bus_cols = ['Base Voltage (V)','Bus','Angle (deg)','Voltage (V, pu)','Voltage (V)']\n",
    "Bus_ephasor_df = Bus_ephasor_df[Bus_cols]\n",
    "Bus_ephasor_df['Type'] = 'PQ'\n",
    "Bus_ephasor_df['Type'][Bus_ephasor_df.loc[Bus_ephasor_df['Bus'].str.contains('{}*'.format(slackbus),regex=True,case=False) ].index] = 'SLACK'\n",
    "Bus_ephasor_df.loc[Bus_ephasor_df['Bus'].str.contains('{}*'.format(slackbus),regex=True,case=False) ].index\n",
    "Bus_ephasor_df.head()\n",
    "\n",
    "Bus_ephasor_df['Base Voltage (V)'] = Bus_ephasor_df['Base Voltage (V)']*1000\n",
    "\n",
    "Bus_ephasor_df\n",
    "        \n",
    "        \n",
    "Bus_ephasor_df.head()"
   ]
  },
  {
   "cell_type": "code",
   "execution_count": null,
   "metadata": {},
   "outputs": [],
   "source": [
    "reuired_sheetnames = ['Bus',\n",
    " 'Current Injector',\n",
    " 'Switch',\n",
    " 'Vsource 3-phase',\n",
    " 'Multiphase Line',\n",
    " 'Multiphase Load',\n",
    " 'Multiphase Shunt',\n",
    "'Multiphase Transformer']\n",
    "# template.sheet_names\n",
    "\n",
    "sheet_name_cols = {}\n",
    "for x in reuired_sheetnames:\n",
    "    headers = [0]\n",
    "    if str(x) == 'Multiphase Transformer':\n",
    "        headers=[0, 1]\n",
    "    temp = pd.read_excel('Template_V1_6.xls',sheet_name=x,header=headers)\n",
    "    sheet_name_cols[str(x)] = list(temp.columns.values)"
   ]
  },
  {
   "cell_type": "code",
   "execution_count": null,
   "metadata": {},
   "outputs": [],
   "source": [
    "['Bus',\n",
    " 'Current Injector',\n",
    " 'Switch',\n",
    " 'Vsource 3-phase',\n",
    " 'Multiphase Line',\n",
    " 'Multiphase Load',\n",
    " 'Multiphase Shunt',\n",
    "'Multiphase Transformer']"
   ]
  },
  {
   "cell_type": "code",
   "execution_count": null,
   "metadata": {},
   "outputs": [],
   "source": [
    "dataframe_to_sheets = {}\n",
    "dataframe_to_sheets['Bus'] = Bus_ephasor_df\n",
    "dataframe_to_sheets['Current Injector'] = PVsystems_df\n",
    "dataframe_to_sheets['Switch'] = Switch_ephasror_final\n",
    "dataframe_to_sheets['Multiphase Shunt'] = Capacitors_df\n",
    "dataframe_to_sheets['Multiphase Load'] = ephaseor_load_df\n",
    "dataframe_to_sheets['Multiphase Line'] = Lines_df_final\n",
    "dataframe_to_sheets['Multiphase Transformer'] = Transformer_df_final"
   ]
  },
  {
   "cell_type": "code",
   "execution_count": null,
   "metadata": {},
   "outputs": [],
   "source": [
    "EPHASOR_OUTPUT_FILE = 'ephasorfile.xlsx'"
   ]
  },
  {
   "cell_type": "code",
   "execution_count": null,
   "metadata": {},
   "outputs": [],
   "source": [
    "# Write to EPhasor model to excel sheets\n",
    "writer = pd.ExcelWriter(EPHASOR_OUTPUT_FILE, engine='xlsxwriter')\n",
    "dataframe_to_sheets['Multiphase Line'].to_excel(writer,sheet_name=\"MultiplhaseLines\",index=False)\n",
    "dataframe_to_sheets['Multiphase Load'].to_excel(writer,sheet_name=\"MultiphaseLoads\",index=False)\n",
    "dataframe_to_sheets['Switch'].to_excel(writer,sheet_name=\"Switch\",index=False)\n",
    "dataframe_to_sheets['Multiphase Shunt'].to_excel(writer,sheet_name=\"MultiplaseShunt\",index=False)\n",
    "dataframe_to_sheets['Current Injector'].to_excel(writer,sheet_name=\"CurrentInjector\",index=False)\n",
    "dataframe_to_sheets['Multiphase Transformer'].to_excel(writer,sheet_name=\"MultiphaseTransformer\",index=False)\n",
    "dataframe_to_sheets['Bus'].to_excel(writer,sheet_name=\"Bus\",index=False)\n",
    "writer.save()"
   ]
  },
  {
   "cell_type": "code",
   "execution_count": null,
   "metadata": {},
   "outputs": [],
   "source": [
    "!open ./ephasorfile.xlsx"
   ]
  },
  {
   "cell_type": "code",
   "execution_count": null,
   "metadata": {},
   "outputs": [],
   "source": []
  },
  {
   "cell_type": "code",
   "execution_count": null,
   "metadata": {},
   "outputs": [],
   "source": []
  }
 ],
 "metadata": {
  "kernelspec": {
   "display_name": "Python 3",
   "language": "python",
   "name": "python3"
  },
  "language_info": {
   "codemirror_mode": {
    "name": "ipython",
    "version": 3
   },
   "file_extension": ".py",
   "mimetype": "text/x-python",
   "name": "python",
   "nbconvert_exporter": "python",
   "pygments_lexer": "ipython3",
   "version": "3.6.7"
  }
 },
 "nbformat": 4,
 "nbformat_minor": 2
}
